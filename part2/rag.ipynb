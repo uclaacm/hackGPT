{
 "cells": [
  {
   "cell_type": "markdown",
   "id": "7345b45e",
   "metadata": {},
   "source": [
    "# WALL-E's Lost Memories"
   ]
  },
  {
   "cell_type": "markdown",
   "id": "22cd5f78",
   "metadata": {},
   "source": [
    "One ordinary Earth-cleaning afternoon, WALL·E climbed a pile of old iPhones trying to rescue a Rubik’s Cube. A pigeon startled him. He slipped.\n",
    "\n",
    "**CRASH.**"
   ]
  },
  {
   "cell_type": "raw",
   "id": "5cccca60",
   "metadata": {
    "vscode": {
     "languageId": "raw"
    }
   },
   "source": [
    ">>> SYSTEM BOOTING...  \n",
    ">>> WALL-E unit #700X  \n",
    ">>> STATUS: 🟥 MEMORY CORRUPTED  "
   ]
  },
  {
   "cell_type": "markdown",
   "id": "4d63099b",
   "metadata": {},
   "source": [
    "*Oh no... The fall seemed pretty bad. Let's try asking him a couple of questions:*"
   ]
  },
  {
   "cell_type": "markdown",
   "id": "a93c71bc",
   "metadata": {},
   "source": [
    "> 🧑‍🔧: It's okay, buddy. You took a pretty bad fall. Let’s try something simple. Who are you?  \n",
    "🤖: I... I do not know. Memory blocks missing.  \n",
    "🧑‍🔧: Hmm. Okay. Let’s try this... Do you remember EVE?  \n",
    "🤖: E...V...E... error. No match found in memory banks. Who... is EVE?  "
   ]
  },
  {
   "cell_type": "markdown",
   "id": "ee8e6ff9",
   "metadata": {},
   "source": [
    "Oh my. The fall WAS pretty bad. Seems like our little robot lost all his memory.  \n",
    "\n",
    "But wait! We found an ancient relic in a dusty old USB: the movie script of WALL·E!"
   ]
  },
  {
   "cell_type": "code",
   "execution_count": null,
   "id": "cece8a6b",
   "metadata": {
    "vscode": {
     "languageId": "shellscript"
    }
   },
   "outputs": [],
   "source": [
    "# Obtain the script! We are nice enough to locate and prepare it for you\n",
    "!curl -L \"https://assets.scriptslug.com/live/pdf/scripts/wall-e-2008.pdf?v=1729115058\" -o walle_script.pdf"
   ]
  },
  {
   "cell_type": "markdown",
   "id": "59178e5a",
   "metadata": {},
   "source": [
    "We can use it to rebuild his memories using **Retrieval Augmented Generation** powered by **LangChain**."
   ]
  },
  {
   "cell_type": "markdown",
   "id": "5ce4cfbe",
   "metadata": {},
   "source": [
    "## What is Retrieval Augmented Generation (RAG)?"
   ]
  },
  {
   "cell_type": "markdown",
   "id": "43ff2ea9",
   "metadata": {},
   "source": []
  },
  {
   "cell_type": "markdown",
   "id": "cf6abbc1",
   "metadata": {},
   "source": [
    "## 🚀 Step 0: Fire Up WALL·E’s Core Systems (Environment Setup)"
   ]
  },
  {
   "cell_type": "code",
   "execution_count": null,
   "id": "f68c7e27",
   "metadata": {
    "vscode": {
     "languageId": "shellscript"
    }
   },
   "outputs": [],
   "source": [
    "# Install the main langchain package\n",
    "!pip install langchain\n",
    "\n",
    "# Install the langchain dependencies required for our project\n",
    "!pip install --quiet --upgrade langchain-core langchain-text-splitters langchain-community langgraph langchain-openai\n",
    "\n",
    "# Install other dependencies\n",
    "%pip install --quiet --upgrade pypdf sentence_transformers"
   ]
  },
  {
   "cell_type": "code",
   "execution_count": null,
   "id": "10a463bb",
   "metadata": {},
   "outputs": [],
   "source": [
    "# Set up OpenAI API key\n",
    "import getpass\n",
    "import os\n",
    "\n",
    "if not os.environ.get(\"OPENAI_API_KEY\"):\n",
    "  os.environ[\"OPENAI_API_KEY\"] = getpass.getpass(\"Enter API key for OpenAI: \")"
   ]
  },
  {
   "cell_type": "code",
   "execution_count": null,
   "id": "8e06afb5",
   "metadata": {},
   "outputs": [],
   "source": [
    "# Set up embeddings model\n",
    "from langchain_openai import OpenAIEmbeddings\n",
    "embeddings = OpenAIEmbeddings(model=\"text-embedding-3-large\")"
   ]
  },
  {
   "cell_type": "code",
   "execution_count": null,
   "id": "bb586131",
   "metadata": {},
   "outputs": [],
   "source": [
    "# Set up vector store\n",
    "from langchain_core.vectorstores import InMemoryVectorStore\n",
    "vector_store = InMemoryVectorStore(embeddings)"
   ]
  },
  {
   "cell_type": "code",
   "execution_count": null,
   "id": "8485d41b",
   "metadata": {},
   "outputs": [],
   "source": [
    "# Set up chat model\n",
    "from langchain.chat_models import init_chat_model\n",
    "llm = init_chat_model(\"gpt-4o-mini\", model_provider=\"openai\")"
   ]
  },
  {
   "cell_type": "markdown",
   "id": "4511198c",
   "metadata": {},
   "source": [
    "## 📜 Step 1: Load the Memory Archive (Document Loader)"
   ]
  },
  {
   "cell_type": "code",
   "execution_count": null,
   "id": "c283a8d5",
   "metadata": {
    "vscode": {
     "languageId": "shellscript"
    }
   },
   "outputs": [],
   "source": [
    "from langchain_community.document_loaders import PyPDFLoader\n",
    "\n",
    "# Load the PDF script into WALL·E's recovery core\n",
    "loader = PyPDFLoader(\"walle_script.pdf\")\n",
    "pages = []\n",
    "async for page in loader.alazy_load():\n",
    "    pages.append(page)"
   ]
  },
  {
   "cell_type": "raw",
   "id": "f9cd525d",
   "metadata": {
    "vscode": {
     "languageId": "raw"
    }
   },
   "source": [
    "[████████░░░░░░░░░░] 35% — Locating movie script…\n",
    "[██████████████░░░░] 75% — Found 1 source: `walle_script.pdf`\n",
    "[██████████████████] 100% — Script Loaded ✅"
   ]
  },
  {
   "cell_type": "code",
   "execution_count": null,
   "id": "3392c24d",
   "metadata": {},
   "outputs": [],
   "source": [
    "print(f\"Total pages loaded: {len(pages)}\\n\")\n",
    "\n",
    "# Skipping the title page (pages[0])\n",
    "page_num = 1\n",
    "print(f\"{'='*40}\")\n",
    "print(f\"📄 Page {page_num} Metadata\")\n",
    "print(f\"{'-'*40}\")\n",
    "print(pages[page_num].metadata)\n",
    "\n",
    "print(f\"\\n{'='*40}\")\n",
    "print(f\"📜 Page {page_num} Content\")\n",
    "print(f\"{'-'*40}\")\n",
    "print(pages[page_num].page_content)\n",
    "print(f\"{'='*40}\\n\")"
   ]
  },
  {
   "cell_type": "markdown",
   "id": "5ce1b7f8",
   "metadata": {},
   "source": [
    "Looks neat!"
   ]
  },
  {
   "cell_type": "markdown",
   "id": "56972087",
   "metadata": {},
   "source": [
    "Let’s try feeding WALL·E the entire script. See if it works.  \n",
    "\n",
    "We gently place the entire WALL·E script PDF into his input slot.  \n",
    "\n",
    "**Beep... Whirr... BZZZT...**  \n",
    "\n",
    "Uh-oh...  \n",
    "\n",
    "> “Eeee–...ERR–...💥”\n",
    "\n",
    "Looks like our sweet trash-compactor can’t process that much information at once. His tiny memory unit just isn’t built for entire movie scripts in one go."
   ]
  },
  {
   "cell_type": "markdown",
   "id": "1ebd2868",
   "metadata": {},
   "source": [
    "More technical explanation here"
   ]
  },
  {
   "cell_type": "markdown",
   "id": "9733698e",
   "metadata": {},
   "source": [
    "To help WALL·E actually remember things, we need to split the script into smaller, memory-safe chunks."
   ]
  },
  {
   "cell_type": "code",
   "execution_count": null,
   "id": "68b50597",
   "metadata": {},
   "outputs": [],
   "source": [
    "from langchain_text_splitters import RecursiveCharacterTextSplitter\n",
    "\n",
    "text_splitter = RecursiveCharacterTextSplitter(\n",
    "    chunk_size=1000,  # chunk size (characters)\n",
    "    chunk_overlap=200,  # chunk overlap (characters)\n",
    "    add_start_index=True,  # track index in original document\n",
    ")\n",
    "all_splits = text_splitter.split_documents(pages)\n",
    "\n",
    "print(f\"Split script into {len(all_splits)} sub-documents.\")"
   ]
  },
  {
   "cell_type": "raw",
   "id": "00cca40d",
   "metadata": {
    "vscode": {
     "languageId": "raw"
    }
   },
   "source": [
    "⚙ Splitting long-term memory into chunks...\n",
    "[▒▒▒▒▒▒▒▒▒▒▒▒▒▒▒▒▒▒] 5% — Chunking…\n",
    "[█████▒▒▒▒▒▒▒▒▒▒▒▒▒] 45% — Overlapping with context\n",
    "[████████████▒▒▒▒▒▒] 75% — Reducing noise\n",
    "[██████████████████] 100% — 159 memory fragments generated ✅"
   ]
  },
  {
   "cell_type": "markdown",
   "id": "31d03c6f",
   "metadata": {},
   "source": [
    "## 🧲 STEP 3: Upload to WALL·E's Memory Module (Vector Store)"
   ]
  },
  {
   "cell_type": "markdown",
   "id": "bdb37ddc",
   "metadata": {},
   "source": [
    "WALL·E doesn’t remember like humans. He needs vector memory!"
   ]
  },
  {
   "cell_type": "code",
   "execution_count": null,
   "id": "be8eea1b",
   "metadata": {},
   "outputs": [],
   "source": [
    "document_ids = vector_store.add_documents(documents=all_splits)"
   ]
  },
  {
   "cell_type": "code",
   "execution_count": null,
   "id": "f5097096",
   "metadata": {},
   "outputs": [],
   "source": [
    "print(document_ids[:3])"
   ]
  },
  {
   "cell_type": "markdown",
   "id": "f07fb357",
   "metadata": {},
   "source": [
    "Now we can search his memory by converting questions into embeddings and looking for the closest matches."
   ]
  },
  {
   "cell_type": "markdown",
   "id": "0cccca32",
   "metadata": {},
   "source": [
    "## 🧠 Step 4: Reconstruct Thoughts – Create the RAG Chain"
   ]
  },
  {
   "cell_type": "code",
   "execution_count": null,
   "id": "b33c467b",
   "metadata": {},
   "outputs": [],
   "source": [
    "from langchain import hub\n",
    "prompt = hub.pull(\"rlm/rag-prompt\")"
   ]
  },
  {
   "cell_type": "code",
   "execution_count": null,
   "id": "213af777",
   "metadata": {},
   "outputs": [],
   "source": [
    "question = \"Who is Eve?\"\n",
    "\n",
    "retrieved_docs = vector_store.similarity_search(question)\n",
    "docs_content = \"\\n\\n\".join(doc.page_content for doc in retrieved_docs)\n",
    "prompt = prompt.invoke({\"question\": question, \"context\": docs_content})\n",
    "answer = llm.invoke(prompt)"
   ]
  },
  {
   "cell_type": "code",
   "execution_count": null,
   "id": "799f887e",
   "metadata": {},
   "outputs": [],
   "source": [
    "print(answer)"
   ]
  },
  {
   "cell_type": "markdown",
   "id": "bba5dc56",
   "metadata": {},
   "source": [
    "## 🤖 Step 5: Ask WALL·E Questions About His Past"
   ]
  }
 ],
 "metadata": {
  "kernelspec": {
   "display_name": ".venv",
   "language": "python",
   "name": "python3"
  },
  "language_info": {
   "codemirror_mode": {
    "name": "ipython",
    "version": 3
   },
   "file_extension": ".py",
   "mimetype": "text/x-python",
   "name": "python",
   "nbconvert_exporter": "python",
   "pygments_lexer": "ipython3",
   "version": "3.11.3"
  }
 },
 "nbformat": 4,
 "nbformat_minor": 5
}
